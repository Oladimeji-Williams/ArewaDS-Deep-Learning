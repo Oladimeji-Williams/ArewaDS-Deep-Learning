{
  "cells": [
    {
      "cell_type": "markdown",
      "metadata": {
        "id": "0XU2GJYXovoy"
      },
      "source": [
        "## Arewa Data Science Academy\n",
        "### Deep Learning Cohort1.0\n",
        "\n",
        "#### Name: Oladimeji Williams\n",
        "#### Email: oladimejisewedowilliams@gmail.com\n",
        "#### Title: Week 1 Solution"
      ]
    },
    {
      "cell_type": "markdown",
      "metadata": {
        "id": "ktLVQ4CYovo8"
      },
      "source": [
        "### Exercises Solution"
      ]
    },
    {
      "cell_type": "markdown",
      "metadata": {
        "id": "GawFqQzlovo9"
      },
      "source": [
        "#### Exercise 2a"
      ]
    },
    {
      "cell_type": "code",
      "execution_count": 1,
      "metadata": {
        "id": "0mm5hpi2ovo-"
      },
      "outputs": [],
      "source": [
        "# Import torch\n",
        "import torch"
      ]
    },
    {
      "cell_type": "markdown",
      "metadata": {
        "id": "4x2SnUZtovpD"
      },
      "source": [
        "#### Exercise 2b"
      ]
    },
    {
      "cell_type": "code",
      "execution_count": 2,
      "metadata": {
        "colab": {
          "base_uri": "https://localhost:8080/"
        },
        "id": "0I4ofqa_ovpF",
        "outputId": "c807c2f9-300a-4e6b-edbb-e083fc840bd1"
      },
      "outputs": [
        {
          "output_type": "stream",
          "name": "stdout",
          "text": [
            "Random Tensor (PyTorch):\n",
            " tensor([[0.6331, 0.3735, 0.4909, 0.9474, 0.0414, 0.0337, 0.7179],\n",
            "        [0.4581, 0.1434, 0.6784, 0.0526, 0.5935, 0.0259, 0.6774],\n",
            "        [0.4225, 0.6500, 0.1411, 0.6617, 0.0091, 0.9702, 0.7749],\n",
            "        [0.5712, 0.8732, 0.5328, 0.4798, 0.4833, 0.9314, 0.0241],\n",
            "        [0.6367, 0.7352, 0.4220, 0.4699, 0.5458, 0.4214, 0.7697],\n",
            "        [0.3069, 0.8492, 0.8293, 0.0804, 0.9986, 0.9372, 0.4029],\n",
            "        [0.0701, 0.8894, 0.6100, 0.5476, 0.1786, 0.2002, 0.0911]])\n"
          ]
        }
      ],
      "source": [
        "# Create random tensor\n",
        "random_tensor1 = torch.rand(7, 7)\n",
        "print(\"Random Tensor (PyTorch):\\n\", random_tensor1)"
      ]
    },
    {
      "cell_type": "markdown",
      "metadata": {
        "id": "rP_t9CPjovpF"
      },
      "source": [
        "#### Exercise 3a"
      ]
    },
    {
      "cell_type": "code",
      "execution_count": 3,
      "metadata": {
        "id": "ObmGjhOLovpG"
      },
      "outputs": [],
      "source": [
        "# Create another random tensor\n",
        "random_tensor2 = torch.rand(1, 7)"
      ]
    },
    {
      "cell_type": "markdown",
      "metadata": {
        "id": "lwY9R4DLovpH"
      },
      "source": [
        "#### Exercise 3b"
      ]
    },
    {
      "cell_type": "code",
      "execution_count": 4,
      "metadata": {
        "colab": {
          "base_uri": "https://localhost:8080/"
        },
        "id": "3Xx-y2LxovpH",
        "outputId": "bb361633-bfaf-44c5-a366-4f04457dbe29"
      },
      "outputs": [
        {
          "output_type": "stream",
          "name": "stdout",
          "text": [
            "Random Tensor 1 (7x7):\n",
            " tensor([[0.6331, 0.3735, 0.4909, 0.9474, 0.0414, 0.0337, 0.7179],\n",
            "        [0.4581, 0.1434, 0.6784, 0.0526, 0.5935, 0.0259, 0.6774],\n",
            "        [0.4225, 0.6500, 0.1411, 0.6617, 0.0091, 0.9702, 0.7749],\n",
            "        [0.5712, 0.8732, 0.5328, 0.4798, 0.4833, 0.9314, 0.0241],\n",
            "        [0.6367, 0.7352, 0.4220, 0.4699, 0.5458, 0.4214, 0.7697],\n",
            "        [0.3069, 0.8492, 0.8293, 0.0804, 0.9986, 0.9372, 0.4029],\n",
            "        [0.0701, 0.8894, 0.6100, 0.5476, 0.1786, 0.2002, 0.0911]])\n",
            "\n",
            "Random Tensor 2 (1x7):\n",
            " tensor([[0.8260, 0.2385, 0.3166, 0.5119, 0.4840, 0.6351, 0.8099]])\n",
            "\n",
            "Random Tensor 2 Transposed (7x1):\n",
            " tensor([[0.8260],\n",
            "        [0.2385],\n",
            "        [0.3166],\n",
            "        [0.5119],\n",
            "        [0.4840],\n",
            "        [0.6351],\n",
            "        [0.8099]])\n",
            "\n",
            "Result of Matrix Multiplication (3x1):\n",
            " tensor([[1.8752],\n",
            "        [1.5066],\n",
            "        [2.1354],\n",
            "        [1.9392],\n",
            "        [2.2306],\n",
            "        [2.1647],\n",
            "        [1.0308]])\n"
          ]
        }
      ],
      "source": [
        "# Perform matrix multiplication\n",
        "\n",
        "random_tensor2_transposed = random_tensor2.T\n",
        "result = torch.matmul(random_tensor1, random_tensor2_transposed)\n",
        "\n",
        "# Print the tensors and the result\n",
        "print(\"Random Tensor 1 (7x7):\\n\", random_tensor1)\n",
        "print(\"\\nRandom Tensor 2 (1x7):\\n\", random_tensor2)\n",
        "print(\"\\nRandom Tensor 2 Transposed (7x1):\\n\", random_tensor2_transposed)\n",
        "print(\"\\nResult of Matrix Multiplication (7x1):\\n\", result)\n"
      ]
    },
    {
      "cell_type": "markdown",
      "metadata": {
        "id": "15SAcEyRovpI"
      },
      "source": [
        "#### Exercise 4a"
      ]
    },
    {
      "cell_type": "code",
      "execution_count": 5,
      "metadata": {
        "colab": {
          "base_uri": "https://localhost:8080/"
        },
        "id": "8nS7yA61ovpI",
        "outputId": "53aba0ed-79d6-4bac-98b8-2c4d7ac40da5"
      },
      "outputs": [
        {
          "output_type": "execute_result",
          "data": {
            "text/plain": [
              "<torch._C.Generator at 0x7b21bc165e70>"
            ]
          },
          "metadata": {},
          "execution_count": 5
        }
      ],
      "source": [
        "# Set manual seed\n",
        "torch.manual_seed(0)"
      ]
    },
    {
      "cell_type": "markdown",
      "metadata": {
        "id": "ar_hP3-covpI"
      },
      "source": [
        "#### Exercise 4b"
      ]
    },
    {
      "cell_type": "code",
      "execution_count": 6,
      "metadata": {
        "id": "aQZDcqIjovpJ"
      },
      "outputs": [],
      "source": [
        "# Create two random tensors\n",
        "random_tensor1 = torch.rand(7, 7)\n",
        "random_tensor2 = torch.rand(1, 7)"
      ]
    },
    {
      "cell_type": "markdown",
      "metadata": {
        "id": "hRr9wMyLovpJ"
      },
      "source": [
        "#### Exercise 4c"
      ]
    },
    {
      "cell_type": "code",
      "execution_count": 7,
      "metadata": {
        "colab": {
          "base_uri": "https://localhost:8080/"
        },
        "id": "XAUB4GmkovpJ",
        "outputId": "a116aa7a-47f5-4110-f938-d9b4e7227f17"
      },
      "outputs": [
        {
          "output_type": "stream",
          "name": "stdout",
          "text": [
            "Random Tensor 1 (7x7):\n",
            " tensor([[0.4963, 0.7682, 0.0885, 0.1320, 0.3074, 0.6341, 0.4901],\n",
            "        [0.8964, 0.4556, 0.6323, 0.3489, 0.4017, 0.0223, 0.1689],\n",
            "        [0.2939, 0.5185, 0.6977, 0.8000, 0.1610, 0.2823, 0.6816],\n",
            "        [0.9152, 0.3971, 0.8742, 0.4194, 0.5529, 0.9527, 0.0362],\n",
            "        [0.1852, 0.3734, 0.3051, 0.9320, 0.1759, 0.2698, 0.1507],\n",
            "        [0.0317, 0.2081, 0.9298, 0.7231, 0.7423, 0.5263, 0.2437],\n",
            "        [0.5846, 0.0332, 0.1387, 0.2422, 0.8155, 0.7932, 0.2783]])\n",
            "\n",
            "Random Tensor 2 (1x7):\n",
            " tensor([[0.4820, 0.8198, 0.9971, 0.6984, 0.5675, 0.8352, 0.2056]])\n",
            "\n",
            "Random Tensor 2 Transposed (7x1):\n",
            " tensor([[0.4820],\n",
            "        [0.8198],\n",
            "        [0.9971],\n",
            "        [0.6984],\n",
            "        [0.5675],\n",
            "        [0.8352],\n",
            "        [0.2056]])\n",
            "\n",
            "Result of Matrix Multiplication (7x1):\n",
            " tensor([[1.8542],\n",
            "        [1.9611],\n",
            "        [2.2884],\n",
            "        [3.0481],\n",
            "        [1.7067],\n",
            "        [2.5290],\n",
            "        [1.7989]])\n"
          ]
        }
      ],
      "source": [
        "random_tensor2_transposed = random_tensor2.T\n",
        "result = torch.matmul(random_tensor1, random_tensor2_transposed)\n",
        "print(\"Random Tensor 1 (7x7):\\n\", random_tensor1)\n",
        "print(\"\\nRandom Tensor 2 (1x7):\\n\", random_tensor2)\n",
        "print(\"\\nRandom Tensor 2 Transposed (7x1):\\n\", random_tensor2_transposed)\n",
        "print(\"\\nResult of Matrix Multiplication (7x1):\\n\", result)"
      ]
    },
    {
      "cell_type": "markdown",
      "metadata": {
        "id": "l_gKxlDfovpJ"
      },
      "source": [
        "#### Exercise 5"
      ]
    },
    {
      "cell_type": "code",
      "execution_count": 8,
      "metadata": {
        "id": "hIJWGSGyovpK"
      },
      "outputs": [],
      "source": [
        "# Set random seed on the GPU\n",
        "\n",
        "if torch.cuda.is_available():\n",
        "    torch.cuda.manual_seed(1234)\n",
        "    device = torch.device(\"cuda\")\n",
        "else:\n",
        "    torch.manual_seed(0)\n",
        "    device = torch.device(\"cpu\")"
      ]
    },
    {
      "cell_type": "markdown",
      "metadata": {
        "id": "GTu6MaQMovpK"
      },
      "source": [
        "#### Exercise 6a"
      ]
    },
    {
      "cell_type": "code",
      "execution_count": 9,
      "metadata": {
        "colab": {
          "base_uri": "https://localhost:8080/"
        },
        "id": "4OWhgwGeovpK",
        "outputId": "d2136762-f0e8-402e-9c55-3f7f6a682042"
      },
      "outputs": [
        {
          "output_type": "execute_result",
          "data": {
            "text/plain": [
              "<torch._C.Generator at 0x7b21bc165e70>"
            ]
          },
          "metadata": {},
          "execution_count": 9
        }
      ],
      "source": [
        "# Set random seed\n",
        "torch.manual_seed(1234)"
      ]
    },
    {
      "cell_type": "markdown",
      "metadata": {
        "id": "kHKTgrIxovpK"
      },
      "source": [
        "#### Exercise 6b"
      ]
    },
    {
      "cell_type": "code",
      "execution_count": 10,
      "metadata": {
        "colab": {
          "base_uri": "https://localhost:8080/"
        },
        "id": "T2CNPTqJovpL",
        "outputId": "3d289c7a-869a-4883-9f0a-d2f27b7bf228"
      },
      "outputs": [
        {
          "output_type": "stream",
          "name": "stdout",
          "text": [
            "GPU not available. Using CPU.\n"
          ]
        }
      ],
      "source": [
        "# Check for access to GPU\n",
        "if torch.cuda.is_available():\n",
        "    device = torch.device(\"cuda\")\n",
        "else:\n",
        "    device = torch.device(\"cpu\")\n",
        "    print(\"GPU not available. Using CPU.\")"
      ]
    },
    {
      "cell_type": "markdown",
      "metadata": {
        "id": "KGwQJzrlovpL"
      },
      "source": [
        "#### Exercise 6c"
      ]
    },
    {
      "cell_type": "code",
      "execution_count": 11,
      "metadata": {
        "colab": {
          "base_uri": "https://localhost:8080/"
        },
        "id": "AXni4NryovpL",
        "outputId": "b3c17388-f972-4fc0-8c42-b3b8c08464a5"
      },
      "outputs": [
        {
          "output_type": "stream",
          "name": "stdout",
          "text": [
            "Device: cpu\n",
            "\n",
            "Tensor 1:\n",
            " tensor([[0.0290, 0.4019, 0.2598],\n",
            "        [0.3666, 0.0583, 0.7006]])\n",
            "\n",
            "Tensor 2:\n",
            " tensor([[0.0518, 0.4681, 0.6738],\n",
            "        [0.3315, 0.7837, 0.5631]])\n"
          ]
        }
      ],
      "source": [
        "# Create two random tensors on GPU\n",
        "tensor1 = torch.rand(2, 3).to(device)\n",
        "tensor2 = torch.rand(2, 3).to(device)\n",
        "\n",
        "\n",
        "print(\"Device:\", device)\n",
        "print(\"\\nTensor 1:\\n\", tensor1)\n",
        "print(\"\\nTensor 2:\\n\", tensor2)"
      ]
    },
    {
      "cell_type": "markdown",
      "metadata": {
        "id": "w2sHcABWovpL"
      },
      "source": [
        "#### Exercise 7"
      ]
    },
    {
      "cell_type": "code",
      "execution_count": 12,
      "metadata": {
        "colab": {
          "base_uri": "https://localhost:8080/"
        },
        "id": "VTJMZ85_ovpL",
        "outputId": "5dbc612f-02ff-47f2-f3f2-7e45b16015e8"
      },
      "outputs": [
        {
          "output_type": "stream",
          "name": "stdout",
          "text": [
            "Device: cpu\n",
            "\n",
            "Tensor 1:\n",
            " tensor([[0.0290, 0.4019, 0.2598],\n",
            "        [0.3666, 0.0583, 0.7006]])\n",
            "\n",
            "Tensor 2 (Transposed):\n",
            " tensor([[0.0518, 0.3315],\n",
            "        [0.4681, 0.7837],\n",
            "        [0.6738, 0.5631]])\n",
            "\n",
            "Result of Matrix Multiplication:\n",
            " tensor([[0.3647, 0.4709],\n",
            "        [0.5184, 0.5617]])\n"
          ]
        }
      ],
      "source": [
        "# Perform matmul on tensor_A and tensor_B\n",
        "tensor2_transposed = tensor2.T\n",
        "result = torch.matmul(tensor1, tensor2_transposed)\n",
        "\n",
        "\n",
        "print(\"Device:\", device)\n",
        "print(\"\\nTensor 1:\\n\", tensor1)\n",
        "print(\"\\nTensor 2 (Transposed):\\n\", tensor2_transposed)\n",
        "print(\"\\nResult of Matrix Multiplication:\\n\", result)"
      ]
    },
    {
      "cell_type": "markdown",
      "metadata": {
        "id": "k3NyJQWaovpL"
      },
      "source": [
        "#### Exercise 8a"
      ]
    },
    {
      "cell_type": "code",
      "execution_count": 13,
      "metadata": {
        "colab": {
          "base_uri": "https://localhost:8080/"
        },
        "id": "d1513BG3ovpM",
        "outputId": "26f74815-ec49-4c37-edc8-84e0835c6ab7"
      },
      "outputs": [
        {
          "output_type": "stream",
          "name": "stdout",
          "text": [
            "\n",
            "Maximum value in the result tensor: 0.5617256760597229\n"
          ]
        }
      ],
      "source": [
        "# Find max\n",
        "max_value = result.max()\n",
        "\n",
        "print(\"\\nMaximum value in the result tensor:\", max_value.item())"
      ]
    },
    {
      "cell_type": "markdown",
      "metadata": {
        "id": "h3BlUBU8ovpM"
      },
      "source": [
        "#### Exercise 8b"
      ]
    },
    {
      "cell_type": "code",
      "execution_count": 14,
      "metadata": {
        "colab": {
          "base_uri": "https://localhost:8080/"
        },
        "id": "4CpbSnUxovpM",
        "outputId": "2a9e56d7-419e-49e1-a541-77c9d14e3af6"
      },
      "outputs": [
        {
          "output_type": "stream",
          "name": "stdout",
          "text": [
            "\n",
            "Minimum value in the result tensor: 0.3647301495075226\n"
          ]
        }
      ],
      "source": [
        "# Find min\n",
        "min_value = result.min()\n",
        "\n",
        "print(\"\\nMinimum value in the result tensor:\", min_value.item())"
      ]
    },
    {
      "cell_type": "markdown",
      "metadata": {
        "id": "sH6EEhi3ovpM"
      },
      "source": [
        "#### Exercise 9a"
      ]
    },
    {
      "cell_type": "code",
      "execution_count": 15,
      "metadata": {
        "colab": {
          "base_uri": "https://localhost:8080/"
        },
        "id": "bP5zwHhhovpM",
        "outputId": "73fd8889-f261-44f5-faa4-9df549ee19c5"
      },
      "outputs": [
        {
          "output_type": "stream",
          "name": "stdout",
          "text": [
            "\n",
            "Index of the maximum value in the result tensor: 3\n"
          ]
        }
      ],
      "source": [
        "# Find arg max\n",
        "arg_max_index = result.argmax()\n",
        "\n",
        "print(\"\\nIndex of the maximum value in the result tensor:\", arg_max_index.item())"
      ]
    },
    {
      "cell_type": "markdown",
      "metadata": {
        "id": "kquybdGDovpM"
      },
      "source": [
        "#### Exercise 9b"
      ]
    },
    {
      "cell_type": "code",
      "execution_count": 16,
      "metadata": {
        "colab": {
          "base_uri": "https://localhost:8080/"
        },
        "id": "lmn2o8PbovpN",
        "outputId": "6822b053-d8d3-4799-c7c5-8a6f35e9d219"
      },
      "outputs": [
        {
          "output_type": "stream",
          "name": "stdout",
          "text": [
            "\n",
            "Index of the minimum value in the result tensor: 0\n"
          ]
        }
      ],
      "source": [
        "# Find arg min\n",
        "arg_min_index = result.argmin()\n",
        "\n",
        "print(\"\\nIndex of the minimum value in the result tensor:\", arg_min_index.item())\n"
      ]
    },
    {
      "cell_type": "markdown",
      "metadata": {
        "id": "CscLpLWUovpN"
      },
      "source": [
        "#### Exercise 10a"
      ]
    },
    {
      "cell_type": "code",
      "execution_count": 17,
      "metadata": {
        "colab": {
          "base_uri": "https://localhost:8080/"
        },
        "id": "o8E85btOovpN",
        "outputId": "8d15a5af-9716-40bd-fbb0-358fbfddfad0"
      },
      "outputs": [
        {
          "output_type": "execute_result",
          "data": {
            "text/plain": [
              "<torch._C.Generator at 0x7b21bc165e70>"
            ]
          },
          "metadata": {},
          "execution_count": 17
        }
      ],
      "source": [
        "# Set seed\n",
        "torch.manual_seed(7)"
      ]
    },
    {
      "cell_type": "markdown",
      "metadata": {
        "id": "8o0MHBHhovpN"
      },
      "source": [
        "#### Exercise 10b"
      ]
    },
    {
      "cell_type": "code",
      "execution_count": 18,
      "metadata": {
        "id": "DBqMKXZ_ovpN"
      },
      "outputs": [],
      "source": [
        "# Create random tensor\n",
        "tensor1 = torch.randn(1, 1, 1, 10)"
      ]
    },
    {
      "cell_type": "markdown",
      "metadata": {
        "id": "rQ7Tk0lyovpN"
      },
      "source": [
        "#### Exercise 10c"
      ]
    },
    {
      "cell_type": "code",
      "execution_count": 19,
      "metadata": {
        "id": "2J8tbfdVovpX"
      },
      "outputs": [],
      "source": [
        "# Remove single dimensions\n",
        "tensor2 = tensor1.squeeze()"
      ]
    },
    {
      "cell_type": "markdown",
      "metadata": {
        "id": "FD4I6yU_ovpX"
      },
      "source": [
        "#### Exercise 10d"
      ]
    },
    {
      "cell_type": "code",
      "execution_count": 20,
      "metadata": {
        "colab": {
          "base_uri": "https://localhost:8080/"
        },
        "id": "3DxEFhEHovpX",
        "outputId": "ca80c30b-8261-4bd6-d700-6ca051e56c53"
      },
      "outputs": [
        {
          "output_type": "stream",
          "name": "stdout",
          "text": [
            "First tensor: tensor([[[[-0.1468,  0.7861,  0.9468, -1.1143,  1.6908, -0.8948, -0.3556,\n",
            "            1.2324,  0.1382, -1.6822]]]])\n",
            "Shape of first tensor: torch.Size([1, 1, 1, 10])\n",
            "Second tensor: tensor([-0.1468,  0.7861,  0.9468, -1.1143,  1.6908, -0.8948, -0.3556,  1.2324,\n",
            "         0.1382, -1.6822])\n",
            "Shape of second tensor: torch.Size([10])\n"
          ]
        }
      ],
      "source": [
        "# Print out tensors and their shapes\n",
        "print(\"First tensor:\", tensor1)\n",
        "print(\"Shape of first tensor:\", tensor1.shape)\n",
        "print(\"Second tensor:\", tensor2)\n",
        "print(\"Shape of second tensor:\", tensor2.shape)"
      ]
    },
    {
      "cell_type": "markdown",
      "metadata": {
        "id": "Xa-Y87YRovpY"
      },
      "source": [
        "### Additional Exercises Solution"
      ]
    },
    {
      "cell_type": "code",
      "execution_count": 20,
      "metadata": {
        "id": "iDteESTnovpY"
      },
      "outputs": [],
      "source": []
    },
    {
      "cell_type": "markdown",
      "metadata": {
        "id": "_6tWzgt8ovpY"
      },
      "source": [
        "**NOTE: NOT TO BE INCLUDED IN SUBMISSION FILE**\\\n",
        "HOW TO SUBMIT NOTES:\n",
        "1. Clone the repository\n",
        "```bash\n",
        "git clone https://github.com/arewadataScience/ArewaDS-Deep-Learning.git\n",
        "```\n",
        "2. Save each week's notebooks in this subfolder `exercise_submissions`\n",
        "3. Use the naming convension `week_{num}_solution.ipynb` e.g. `week_1_solution.ipynb`\n",
        "4. Please, make sure all the clear runs without errors and keep cell outputs before submission.\n",
        "\n",
        "\n",
        "SUBMIT ASSIGNMENT HERE: [CLICK ME ▶️](https://forms.gle/876vi4aNoFf4A2mU7)"
      ]
    }
  ],
  "metadata": {
    "kernelspec": {
      "display_name": "Python 3",
      "language": "python",
      "name": "python3"
    },
    "language_info": {
      "name": "python",
      "version": "3.11.9"
    },
    "colab": {
      "provenance": []
    }
  },
  "nbformat": 4,
  "nbformat_minor": 0
}